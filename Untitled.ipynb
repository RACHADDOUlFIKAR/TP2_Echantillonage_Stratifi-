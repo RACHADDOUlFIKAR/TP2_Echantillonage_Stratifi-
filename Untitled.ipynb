{
 "cells": [
  {
   "cell_type": "markdown",
   "id": "9f599eaa",
   "metadata": {},
   "source": [
    "<h2>Avantage et Limites</h2>\n"
   ]
  },
  {
   "cell_type": "markdown",
   "id": "1f249c33",
   "metadata": {},
   "source": [
    "<h5>Example 1</h5>"
   ]
  },
  {
   "cell_type": "code",
   "execution_count": 8,
   "id": "0a59905b",
   "metadata": {},
   "outputs": [],
   "source": [
    "(x,y),(_,_)=mnist.load_data()\n",
    "\n",
    "x=x.reshape(-1,28*28)/255.0\n",
    "y=(y==9)"
   ]
  },
  {
   "cell_type": "code",
   "execution_count": 4,
   "id": "ba64a9a3",
   "metadata": {},
   "outputs": [],
   "source": [
    "import numpy as np\n",
    "from keras.datasets import mnist"
   ]
  },
  {
   "cell_type": "markdown",
   "id": "f9bede67",
   "metadata": {},
   "source": [
    "<h5>Example 2</h5>"
   ]
  },
  {
   "cell_type": "code",
   "execution_count": 13,
   "id": "a9cedd95",
   "metadata": {},
   "outputs": [
    {
     "name": "stdout",
     "output_type": "stream",
     "text": [
      "Collecting scikit-learn\n",
      "  Using cached scikit_learn-1.3.2-cp310-cp310-win_amd64.whl.metadata (11 kB)\n",
      "Requirement already satisfied: numpy<2.0,>=1.17.3 in c:\\users\\rachad\\anaconda3\\envs\\tensorflow\\lib\\site-packages (from scikit-learn) (1.26.0)\n",
      "Requirement already satisfied: scipy>=1.5.0 in c:\\users\\rachad\\anaconda3\\envs\\tensorflow\\lib\\site-packages (from scikit-learn) (1.11.3)\n",
      "Collecting joblib>=1.1.1 (from scikit-learn)\n",
      "  Using cached joblib-1.3.2-py3-none-any.whl.metadata (5.4 kB)\n",
      "Collecting threadpoolctl>=2.0.0 (from scikit-learn)\n",
      "  Using cached threadpoolctl-3.2.0-py3-none-any.whl.metadata (10.0 kB)\n",
      "Using cached scikit_learn-1.3.2-cp310-cp310-win_amd64.whl (9.3 MB)\n",
      "Using cached joblib-1.3.2-py3-none-any.whl (302 kB)\n",
      "Using cached threadpoolctl-3.2.0-py3-none-any.whl (15 kB)\n",
      "Installing collected packages: threadpoolctl, joblib, scikit-learn\n",
      "Successfully installed joblib-1.3.2 scikit-learn-1.3.2 threadpoolctl-3.2.0\n"
     ]
    }
   ],
   "source": [
    "!pip install scikit-learn"
   ]
  },
  {
   "cell_type": "code",
   "execution_count": 17,
   "id": "e19ee631",
   "metadata": {},
   "outputs": [],
   "source": [
    "from sklearn.linear_model import SGDClassifier\n",
    "from sklearn.model_selection import StratifiedKFold\n"
   ]
  },
  {
   "cell_type": "code",
   "execution_count": null,
   "id": "f1f61d6e",
   "metadata": {},
   "outputs": [],
   "source": []
  }
 ],
 "metadata": {
  "kernelspec": {
   "display_name": "Python 3 (ipykernel)",
   "language": "python",
   "name": "python3"
  },
  "language_info": {
   "codemirror_mode": {
    "name": "ipython",
    "version": 3
   },
   "file_extension": ".py",
   "mimetype": "text/x-python",
   "name": "python",
   "nbconvert_exporter": "python",
   "pygments_lexer": "ipython3",
   "version": "3.10.13"
  }
 },
 "nbformat": 4,
 "nbformat_minor": 5
}
